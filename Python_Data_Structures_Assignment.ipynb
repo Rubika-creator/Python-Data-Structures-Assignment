{
  "nbformat": 4,
  "nbformat_minor": 0,
  "metadata": {
    "colab": {
      "provenance": []
    },
    "kernelspec": {
      "name": "python3",
      "display_name": "Python 3"
    },
    "language_info": {
      "name": "python"
    }
  },
  "cells": [
    {
      "cell_type": "markdown",
      "source": [
        "#Theoretical Questions\n"
      ],
      "metadata": {
        "id": "cWIkY1nEvYB3"
      }
    },
    {
      "cell_type": "markdown",
      "source": [
        "1. What are data structures, and why are they important?\n",
        ">> Data structures are ways to organize and store data for efficient use.\n",
        "\n",
        "Importance:\n",
        "\n",
        "Faster data access and operations\n",
        "\n",
        "Saves memory\n",
        "\n",
        "Handles large data efficiently\n",
        "\n",
        "Makes code cleaner and easier to maintain\n",
        "\n",
        "\n",
        "\n",
        "\n",
        "\n",
        "\n",
        "\n",
        "\n"
      ],
      "metadata": {
        "id": "iB-I4P4hvcwe"
      }
    },
    {
      "cell_type": "markdown",
      "source": [
        "2. Explain the difference between mutable and immutable data types with examples?\n",
        ">> Mutable Can be changed after creation.\n",
        "Example:\n",
        "my_list = [1, 2, 3]\n",
        "my_list[0] = 10  \n",
        "print(my_list)  # [10, 2, 3]\n",
        "\n",
        "Immutable: Cannot be changed after creation.\n",
        "Example:\n",
        "\n",
        "my_tuple = (1, 2, 3)\n",
        "my_tuple[0] = 10  \n",
        "print(my_tuple)  # (1, 2, 3)"
      ],
      "metadata": {
        "id": "jU3rvs5gvxRA"
      }
    },
    {
      "cell_type": "markdown",
      "source": [
        "3. What are the main differences between lists and tuples in Python?\n",
        ">> Lists are mutable , they are defined using square brackets whereas tuples are immutable and they are defined using paranthesis."
      ],
      "metadata": {
        "id": "uNzlQMzww-QY"
      }
    },
    {
      "cell_type": "markdown",
      "source": [
        "4. Describe how dictionaries store data\n",
        ">> Dictionaries store data as key–value pairs using a hash table.\n",
        "\n",
        "Key → unique identifier\n",
        "\n",
        "Value → data associated with the key\n",
        "\n",
        "Python uses the key’s hash value to quickly find where its value is stored in memory."
      ],
      "metadata": {
        "id": "zOR3lN-Qxa1n"
      }
    },
    {
      "cell_type": "markdown",
      "source": [
        "5. Why might you use a set instead of a list in Python?\n",
        ">> Whenever we need to avoid the duplicate values we can use set because set is an unordered collection of unique elements.So we should use set instead of list to avoid duplicates."
      ],
      "metadata": {
        "id": "RLm3IsfkyB-L"
      }
    },
    {
      "cell_type": "markdown",
      "source": [
        "6. What is a string in Python, and how is it different from a list?\n",
        ">> A string is a sequence of characters that represent and manipulate textual data where as list is an ordered collection of elements that can be of anytype.String should be defined inside quotes whereas the lift should be defined using square brackets."
      ],
      "metadata": {
        "id": "RITqKdcNzFFK"
      }
    },
    {
      "cell_type": "markdown",
      "source": [
        "7. How do tuples ensure data integrity in Python?\n",
        ">> Tuples ensure data integrity in Python because they are immutable.Once created, their contents cannot be changed, added to, or removed.\n",
        "\n",
        "This means No accidental modifications,safe to use as fixed records or constants.\n",
        "\n",
        "---\n",
        "\n"
      ],
      "metadata": {
        "id": "Yv0ZS6ci0Sur"
      }
    },
    {
      "cell_type": "markdown",
      "source": [
        "8. What is a hash table, and how does it relate to dictionaries in Python?\n",
        ">> A hash table is a data structure that stores data in key-value pairs and uses a hash function to quickly find the storage location of each key.\n",
        "Python's dict is implemented using a hash table.\n",
        "\n",
        "When you insert a key-value pair, Python computes the hash of the key and uses it to decide where to store the value in memory."
      ],
      "metadata": {
        "id": "B_qLnvc_08b6"
      }
    },
    {
      "cell_type": "markdown",
      "source": [
        "9.  Can lists contain different data types in Python?\n",
        ">> Yes, List is heterogenous. Lists can contain different types of data in it like integer, float, string, boolean, complex numbers.\n"
      ],
      "metadata": {
        "id": "ZZkNvwH0SfLE"
      }
    },
    {
      "cell_type": "markdown",
      "source": [
        "10.  Explain why strings are immutable in Python?\n",
        ">> Strings in Python are immutable to improve memory efficiency, ensure consistent hashing (important for dictionary keys), and prevent accidental changes.Any modification creates a new string object instead of altering the original."
      ],
      "metadata": {
        "id": "E_nZMdTVTBro"
      }
    },
    {
      "cell_type": "markdown",
      "source": [
        "11.What advantages do dictionaries offer over lists for certain tasks?\n",
        ">> 1. Avoid duplicate keys, ensuring unique identifiers for data.\n",
        "2. Allow flexible, non-sequential storage (no need to maintain index order).\n",
        "3. Can store and retrieve data regardless of insertion position.\n"
      ],
      "metadata": {
        "id": "uKnBEI2QTbhB"
      }
    },
    {
      "cell_type": "markdown",
      "source": [
        "12. Describe a scenario where using a tuple would be preferable over a list?\n",
        ">> Tuples are preferred over lists when the data has to be constant or should not get modified.Tuples prevent accidental modification, ensuring the coordinates stay intact.Like storing employee ID, or anyother ID numbers."
      ],
      "metadata": {
        "id": "22vvqrYcT-j-"
      }
    },
    {
      "cell_type": "markdown",
      "source": [
        "13.  How do sets handle duplicate values in Python3?\n",
        ">> Sets will remove duplicate values and only stores unique values.Set is used to avaoid duplicate data."
      ],
      "metadata": {
        "id": "VEIhiwetUcyR"
      }
    },
    {
      "cell_type": "markdown",
      "source": [
        "14. How does the “in” keyword work differently for lists and dictionaries?\n",
        ">> In lists 'in' keyword is used to find whether a value is present in the list or not whereas in the dictionary it is used to find if the key exists."
      ],
      "metadata": {
        "id": "XjlxdReCU9DU"
      }
    },
    {
      "cell_type": "markdown",
      "source": [
        "15.  Can you modify the elements of a tuple? Explain why or why not?\n",
        ">> We cannot modify the elements in the tuple because tuple is immutable. We cannot make any modifications in its elements.This immutability ensures data integrity and allows tuples to be used as dictionary keys or set elements when they contain only immutable types.\n"
      ],
      "metadata": {
        "id": "10yFTUi5VusW"
      }
    },
    {
      "cell_type": "markdown",
      "source": [],
      "metadata": {
        "id": "rH0AxaxS0xOi"
      }
    },
    {
      "cell_type": "markdown",
      "source": [
        "16. What is a nested dictionary, and give an example of its use case?\n",
        ">> A nested dictionary is nothing but when there is a dictionary present inside a dictionary. Ex:\n",
        "employee_details={Emp_ID:1142, Emp_name:Sundar, Emp_dept:HR, address:{Door_no:21/2, street:ABC colony, Zip: 767578}}\n"
      ],
      "metadata": {
        "id": "pye2j0ExWQTY"
      }
    },
    {
      "cell_type": "markdown",
      "source": [
        "17. Describe the time complexity of accessing elements in a dictionary?\n",
        ">> Accessing an element in a Python dictionary has an average time complexity of O(1) because it uses a hash table to find the key's location directly.\n",
        "In rare cases of hash collisions, the time can degrade to O(n), but this is uncommon."
      ],
      "metadata": {
        "id": "yhvcNrfmXbRV"
      }
    },
    {
      "cell_type": "markdown",
      "source": [
        "18. In what situations are lists preferred over dictionaries?\n",
        ">> 1. When You only need ordered data storage.\n",
        "   2. When elements don't need unique identifiers (keys).\n",
        "   3. When You'll access items mainly by position/index.\n",
        "   4. Where Memory usage should be minimal."
      ],
      "metadata": {
        "id": "RdzJYYsQX3e3"
      }
    },
    {
      "cell_type": "markdown",
      "source": [
        "19.  Why are dictionaries considered unordered, and how does that affect data retrieval?\n",
        ">> Dictionaries are considered unordered because they store items based on hash values, not insertion order, so the sequence wasn't guaranteed.\n",
        "This means retrieval is done by key, not position you can't rely on a fixed index to get items."
      ],
      "metadata": {
        "id": "ZmvbYEf3YfMB"
      }
    },
    {
      "cell_type": "markdown",
      "source": [
        "20. Explain the difference between a list and a dictionary in terms of data retrieval.\n",
        ">> In lists data can be accessed using the indexing whereas in dictionaries the values vcan be accessed using the keys.This makes dictionaries faster for direct lookups when you know the key, while lists are better for ordered, position-based access.\n"
      ],
      "metadata": {
        "id": "xslnqg1pY1_M"
      }
    },
    {
      "cell_type": "markdown",
      "source": [
        "# Practical Questions\n"
      ],
      "metadata": {
        "id": "zIeVzSiTZU4S"
      }
    },
    {
      "cell_type": "code",
      "source": [
        "# 1. Write a code to create a string with your name and print itP\n",
        "name= \"Rubika\"\n",
        "print(name)"
      ],
      "metadata": {
        "colab": {
          "base_uri": "https://localhost:8080/"
        },
        "id": "dU_9Nh4nZY1L",
        "outputId": "11d499a0-a321-4a3c-be00-f83c02dec1c8"
      },
      "execution_count": null,
      "outputs": [
        {
          "output_type": "stream",
          "name": "stdout",
          "text": [
            "Rubika\n"
          ]
        }
      ]
    },
    {
      "cell_type": "code",
      "source": [
        "#2 .Write a code to find the length of the string \"Hello World\"P\n",
        "string=\"Hello World\"\n",
        "print(len(string))"
      ],
      "metadata": {
        "colab": {
          "base_uri": "https://localhost:8080/"
        },
        "id": "MZ8ulcG9ZuMZ",
        "outputId": "760654b0-1983-472b-9533-a3af1860671e"
      },
      "execution_count": null,
      "outputs": [
        {
          "output_type": "stream",
          "name": "stdout",
          "text": [
            "11\n"
          ]
        }
      ]
    },
    {
      "cell_type": "code",
      "source": [
        "# 3. Write a code to slice the first 3 characters from the string \"Python Programming\"?\n",
        "string=\"Python Programming\"\n",
        "print(string[0:3])\n"
      ],
      "metadata": {
        "colab": {
          "base_uri": "https://localhost:8080/"
        },
        "id": "nNkbm2fOZ_OU",
        "outputId": "c3da4c54-148a-4c80-b27f-21ce06c91916"
      },
      "execution_count": null,
      "outputs": [
        {
          "output_type": "stream",
          "name": "stdout",
          "text": [
            "Pyt\n"
          ]
        }
      ]
    },
    {
      "cell_type": "code",
      "source": [
        "# 4 Write a code to convert the string \"hello\" to uppercase?\n",
        "string=\"hello\"\n",
        "print(string.upper())\n"
      ],
      "metadata": {
        "colab": {
          "base_uri": "https://localhost:8080/"
        },
        "id": "9zf4Ix8maO2-",
        "outputId": "551b684d-dc05-4e20-82f6-8d3106086e55"
      },
      "execution_count": null,
      "outputs": [
        {
          "output_type": "stream",
          "name": "stdout",
          "text": [
            "HELLO\n"
          ]
        }
      ]
    },
    {
      "cell_type": "code",
      "source": [
        "# 5 Write a code to replace the word \"apple\" with \"orange\" in the string \"I like apple\n",
        "string= \"I like apple\"\n",
        "print(string.replace('apple','orange'))"
      ],
      "metadata": {
        "colab": {
          "base_uri": "https://localhost:8080/"
        },
        "id": "o1q8qFffajGX",
        "outputId": "968600b2-10de-4442-a599-29304a8fb8fc"
      },
      "execution_count": null,
      "outputs": [
        {
          "output_type": "stream",
          "name": "stdout",
          "text": [
            "I like orange\n"
          ]
        }
      ]
    },
    {
      "cell_type": "code",
      "source": [
        "# 6 Write a code to create a list with numbers 1 to 5 and print it\n",
        "List=[]\n",
        "for i in range(1,6):\n",
        "  List.append(i)\n",
        "print(List)"
      ],
      "metadata": {
        "colab": {
          "base_uri": "https://localhost:8080/"
        },
        "id": "3le8FhaPa6Kv",
        "outputId": "1dd7fee8-9716-4d25-c075-668c3b462416"
      },
      "execution_count": null,
      "outputs": [
        {
          "output_type": "stream",
          "name": "stdout",
          "text": [
            "[1, 2, 3, 4, 5]\n"
          ]
        }
      ]
    },
    {
      "cell_type": "code",
      "source": [
        "# 7 Write a code to append the number 10 to the list [1, 2, 3, 4]\n",
        "List=[1,2,3,4]\n",
        "List.append(10)\n",
        "print(List)"
      ],
      "metadata": {
        "colab": {
          "base_uri": "https://localhost:8080/"
        },
        "id": "KOX5E3aFbx6b",
        "outputId": "1ea35449-0df3-4346-e644-a47a482ce037"
      },
      "execution_count": null,
      "outputs": [
        {
          "output_type": "stream",
          "name": "stdout",
          "text": [
            "[1, 2, 3, 4, 10]\n"
          ]
        }
      ]
    },
    {
      "cell_type": "code",
      "source": [
        "# 8 Write a code to remove the number 3 from the list [1, 2, 3, 4, 5]\n",
        "List=[1,2,3,4,5]\n",
        "List.remove(3)\n",
        "print(List)"
      ],
      "metadata": {
        "colab": {
          "base_uri": "https://localhost:8080/"
        },
        "id": "5fKPq3QqcQ4-",
        "outputId": "3255dc42-7c58-4ba7-d0b3-2b0de1eb1048"
      },
      "execution_count": null,
      "outputs": [
        {
          "output_type": "stream",
          "name": "stdout",
          "text": [
            "[1, 2, 4, 5]\n"
          ]
        }
      ]
    },
    {
      "cell_type": "code",
      "source": [
        "# 9 Write a code to access the second element in the list ['a', 'b', 'c', 'd']\n",
        "List=['a', 'b', 'c', 'd']\n",
        "print(List[1])"
      ],
      "metadata": {
        "colab": {
          "base_uri": "https://localhost:8080/"
        },
        "id": "JBgtBH2pceGT",
        "outputId": "b1f2260a-e766-4239-de7e-4b1cef418fa8"
      },
      "execution_count": null,
      "outputs": [
        {
          "output_type": "stream",
          "name": "stdout",
          "text": [
            "b\n"
          ]
        }
      ]
    },
    {
      "cell_type": "code",
      "source": [
        "# 10  Write a code to reverse the list [10, 20, 30, 40, 50]\n",
        "List=[10, 20, 30, 40, 50]\n",
        "List.reverse()\n",
        "print(List)"
      ],
      "metadata": {
        "colab": {
          "base_uri": "https://localhost:8080/"
        },
        "id": "VSds0M8uc0xh",
        "outputId": "475c6a0e-441d-4963-be9f-ae27646eb737"
      },
      "execution_count": null,
      "outputs": [
        {
          "output_type": "stream",
          "name": "stdout",
          "text": [
            "[50, 40, 30, 20, 10]\n"
          ]
        }
      ]
    },
    {
      "cell_type": "code",
      "source": [
        "# 11  Write a code to create a tuple with the elements 100, 200, 300 and print it\n",
        "tuple = (100, 200, 300)\n",
        "print(tuple)"
      ],
      "metadata": {
        "colab": {
          "base_uri": "https://localhost:8080/"
        },
        "id": "vvCNYHn0dGNT",
        "outputId": "ccbd615c-509f-4996-d714-e665ae0c3b73"
      },
      "execution_count": null,
      "outputs": [
        {
          "output_type": "stream",
          "name": "stdout",
          "text": [
            "(100, 200, 300)\n"
          ]
        }
      ]
    },
    {
      "cell_type": "code",
      "source": [
        "# 12  Write a code to access the second-to-last element of the tuple ('red', 'green', 'blue', 'yellow')\n",
        "tuple=('red', 'green', 'blue', 'yellow')\n",
        "print(tuple[1:])"
      ],
      "metadata": {
        "colab": {
          "base_uri": "https://localhost:8080/"
        },
        "id": "d2mir8njeuBA",
        "outputId": "22f9e55a-4c1d-420d-d022-520fd11ec176"
      },
      "execution_count": null,
      "outputs": [
        {
          "output_type": "stream",
          "name": "stdout",
          "text": [
            "('green', 'blue', 'yellow')\n"
          ]
        }
      ]
    },
    {
      "cell_type": "code",
      "source": [
        "# 13 Write a code to find the minimum number in the tuple (10, 20, 5, 15)\n",
        "t=(10, 20, 5, 15)\n",
        "min_value=min(t)\n",
        "print(min_value)"
      ],
      "metadata": {
        "colab": {
          "base_uri": "https://localhost:8080/"
        },
        "id": "WNrNiu67fJbq",
        "outputId": "49ddbebc-9d94-4395-94a1-4b812d1aa336"
      },
      "execution_count": null,
      "outputs": [
        {
          "output_type": "stream",
          "name": "stdout",
          "text": [
            "5\n"
          ]
        }
      ]
    },
    {
      "cell_type": "code",
      "source": [
        "# 14 Write a code to find the index of the element \"cat\" in the tuple ('dog', 'cat', 'rabbit').\n",
        "my_tuple=('dog', 'cat', 'rabbit')\n",
        "index=my_tuple.index('cat')\n",
        "print(index)\n"
      ],
      "metadata": {
        "colab": {
          "base_uri": "https://localhost:8080/"
        },
        "id": "G5wFJ2PagCx9",
        "outputId": "ddec97d7-d36d-4737-bb16-58ed14b858a3"
      },
      "execution_count": null,
      "outputs": [
        {
          "output_type": "stream",
          "name": "stdout",
          "text": [
            "1\n"
          ]
        }
      ]
    },
    {
      "cell_type": "code",
      "source": [
        "# 15  Write a code to create a tuple containing three different fruits and check if \"kiwi\" is in it.\n",
        "my_tuple=('apple', 'banana', 'orange', 'strawberry')\n",
        "if 'kiwi' in my_tuple:\n",
        "  print(\"Kiwi is in the tuple\")\n",
        "else:\n",
        "  print(\"kiwi is not in the tuple\")\n",
        "\n"
      ],
      "metadata": {
        "colab": {
          "base_uri": "https://localhost:8080/"
        },
        "id": "ncQCkNm4gg7A",
        "outputId": "5e8059d7-e941-4386-9845-a2d33b784fe8"
      },
      "execution_count": null,
      "outputs": [
        {
          "output_type": "stream",
          "name": "stdout",
          "text": [
            "kiwi is not in the tuple\n"
          ]
        }
      ]
    },
    {
      "cell_type": "code",
      "source": [
        "# 16 Write a code to create a set with the elements 'a', 'b', 'c' and print it\n",
        "set={1,2,3,4,5}\n",
        "print(set)\n",
        "\n"
      ],
      "metadata": {
        "colab": {
          "base_uri": "https://localhost:8080/"
        },
        "id": "izVPaK5niSMo",
        "outputId": "737364d5-75f9-4a72-cdb3-a9e91229612b"
      },
      "execution_count": null,
      "outputs": [
        {
          "output_type": "stream",
          "name": "stdout",
          "text": [
            "{1, 2, 3, 4, 5}\n"
          ]
        }
      ]
    },
    {
      "cell_type": "code",
      "source": [
        "# 17 Write a code to clear all elements from the set {1, 2, 3, 4, 5}\n",
        "set={1,2,3,4,5}\n",
        "set.clear()\n",
        "print(set)"
      ],
      "metadata": {
        "colab": {
          "base_uri": "https://localhost:8080/"
        },
        "id": "LZsCidbR7esN",
        "outputId": "fd0e682e-1978-4ba6-85d5-646d652aa217"
      },
      "execution_count": null,
      "outputs": [
        {
          "output_type": "stream",
          "name": "stdout",
          "text": [
            "set()\n"
          ]
        }
      ]
    },
    {
      "cell_type": "code",
      "source": [
        "#18 Write a code to clear all elements from the set {1, 2, 3, 4, 5}\n",
        "set={1,2,3,4}\n",
        "set.remove(4)\n",
        "print(set)"
      ],
      "metadata": {
        "colab": {
          "base_uri": "https://localhost:8080/"
        },
        "id": "oW2fNLaV8VQ3",
        "outputId": "5b507e7e-b220-4352-e6fe-fced8e842dc1"
      },
      "execution_count": null,
      "outputs": [
        {
          "output_type": "stream",
          "name": "stdout",
          "text": [
            "{1, 2, 3}\n"
          ]
        }
      ]
    },
    {
      "cell_type": "code",
      "source": [
        "#19 Write a code to find the union of two sets {1, 2, 3} and {3, 4, 5}\n",
        "set1={1,2,3}\n",
        "set2={3,4,5}\n",
        "set3=set1.union(set2)\n",
        "print(set3)"
      ],
      "metadata": {
        "colab": {
          "base_uri": "https://localhost:8080/"
        },
        "id": "1Mix9FzV8lqK",
        "outputId": "98a3e05e-c2cd-4fea-9281-49b108c1588d"
      },
      "execution_count": null,
      "outputs": [
        {
          "output_type": "stream",
          "name": "stdout",
          "text": [
            "{1, 2, 3, 4, 5}\n"
          ]
        }
      ]
    },
    {
      "cell_type": "code",
      "source": [
        "#20 Write a code to find the intersection of two sets {1, 2, 3} and {2, 3, 4}.\n",
        "set1={1,2,3}\n",
        "set2={2,3,4}\n",
        "set3=set1.intersection(set2)\n",
        "print(set3)"
      ],
      "metadata": {
        "colab": {
          "base_uri": "https://localhost:8080/"
        },
        "id": "UUGfHdo29DSE",
        "outputId": "5e475bd9-6d53-4704-8a49-6e8d93250e47"
      },
      "execution_count": null,
      "outputs": [
        {
          "output_type": "stream",
          "name": "stdout",
          "text": [
            "{2, 3}\n"
          ]
        }
      ]
    },
    {
      "cell_type": "code",
      "source": [
        "# 21 Write a code to create a dictionary with the keys \"name\", \"age\", and \"city\", and print it.\n",
        "dict={'name':'Ruby','age': 26, 'city': 'Chennai'}\n",
        "print(dict)"
      ],
      "metadata": {
        "colab": {
          "base_uri": "https://localhost:8080/"
        },
        "id": "rD7abTaY9c2M",
        "outputId": "349a3e5b-8b85-4f78-8854-81fe4990dc18"
      },
      "execution_count": null,
      "outputs": [
        {
          "output_type": "stream",
          "name": "stdout",
          "text": [
            "{'name': 'Ruby', 'age': 26, 'city': 'Chennai'}\n"
          ]
        }
      ]
    },
    {
      "cell_type": "code",
      "source": [
        "#22 Write a code to add a new key-value pair \"country\": \"USA\" to the dictionary {'name': 'John', 'age': 25}\n",
        "dict={'name': 'John', 'age': 25}\n",
        "dict.update({'country':'USA'})\n",
        "print(dict)"
      ],
      "metadata": {
        "colab": {
          "base_uri": "https://localhost:8080/"
        },
        "id": "k12-CLxu96Xc",
        "outputId": "620eb1c5-2114-46e3-9438-58e2705e2812"
      },
      "execution_count": null,
      "outputs": [
        {
          "output_type": "stream",
          "name": "stdout",
          "text": [
            "{'name': 'John', 'age': 25, 'country': 'USA'}\n"
          ]
        }
      ]
    },
    {
      "cell_type": "code",
      "source": [
        "# 23 Write a code to access the value associated with the key \"name\" in the dictionary {'name': 'Alice', 'age': 30}\n",
        "dict={'name':'Alice', 'age': 30}\n",
        "print(dict['name'])"
      ],
      "metadata": {
        "colab": {
          "base_uri": "https://localhost:8080/"
        },
        "id": "ufsf7pL2-bRR",
        "outputId": "cab64354-c89a-4d19-9a71-6fcbe8e90314"
      },
      "execution_count": null,
      "outputs": [
        {
          "output_type": "stream",
          "name": "stdout",
          "text": [
            "Alice\n"
          ]
        }
      ]
    },
    {
      "cell_type": "code",
      "source": [
        "# 24 Write a code to remove the key \"age\" from the dictionary {'name': 'Bob', 'age': 22, 'city': 'New York'}\n",
        "dict={'name': 'Bob', 'age': 22, 'city': 'New York'}\n",
        "dict.pop('age')\n",
        "print(dict)\n"
      ],
      "metadata": {
        "colab": {
          "base_uri": "https://localhost:8080/"
        },
        "id": "Yg75ZdXg_BGE",
        "outputId": "fa4224a7-20ec-46f9-d9a1-8e152772d2c6"
      },
      "execution_count": null,
      "outputs": [
        {
          "output_type": "stream",
          "name": "stdout",
          "text": [
            "{'name': 'Bob', 'city': 'New York'}\n"
          ]
        }
      ]
    },
    {
      "cell_type": "code",
      "source": [
        "# 25 Write a code to check if the key \"city\" exists in the dictionary {'name': 'Alice', 'city': 'Paris'}\n",
        "dict={'name': 'Alice', 'city': 'Paris'}\n",
        "if 'city' in dict:\n",
        "  print(\"city is present in the dictionary\")\n",
        "else:\n",
        "  print(\"city is not present in the dictionary\")"
      ],
      "metadata": {
        "colab": {
          "base_uri": "https://localhost:8080/"
        },
        "id": "1PNBMNBp_zPn",
        "outputId": "479ec187-7940-4978-b460-db3d37332987"
      },
      "execution_count": null,
      "outputs": [
        {
          "output_type": "stream",
          "name": "stdout",
          "text": [
            "city is present in the dictionary\n"
          ]
        }
      ]
    },
    {
      "cell_type": "code",
      "source": [
        "# 26 Write a code to create a list, a tuple, and a dictionary, and print them all.\n",
        "list=[1,2,3,4,5]\n",
        "tuple=(1,2,3,4,5)\n",
        "dict={'name': 'Alice', 'city': 'Paris'}\n",
        "print(list)\n",
        "print(tuple)\n",
        "print(dict)"
      ],
      "metadata": {
        "colab": {
          "base_uri": "https://localhost:8080/"
        },
        "id": "9GAXv1WtAXTL",
        "outputId": "235b69bc-1189-411a-fa9a-87a40db1f408"
      },
      "execution_count": null,
      "outputs": [
        {
          "output_type": "stream",
          "name": "stdout",
          "text": [
            "[1, 2, 3, 4, 5]\n",
            "(1, 2, 3, 4, 5)\n",
            "{'name': 'Alice', 'city': 'Paris'}\n"
          ]
        }
      ]
    },
    {
      "cell_type": "code",
      "source": [
        "# 27 Write a code to create a list of 5 random numbers between 1 and 100, sort it in ascending order, and print the result.(replaced)\n",
        "import random\n",
        "list=[]\n",
        "for i in range(5):\n",
        "  list.append(random.randint(1,100))\n",
        "list.sort()\n",
        "print(list)\n"
      ],
      "metadata": {
        "colab": {
          "base_uri": "https://localhost:8080/"
        },
        "id": "TM7YyIrOBZ6k",
        "outputId": "89a51405-1fc1-4a84-9f1e-fb31d1ec89a2"
      },
      "execution_count": null,
      "outputs": [
        {
          "output_type": "stream",
          "name": "stdout",
          "text": [
            "[13, 51, 65, 74, 77]\n"
          ]
        }
      ]
    },
    {
      "cell_type": "code",
      "source": [
        "# 28 Write a code to create a list with strings and print the element at the third index\n",
        "list=['cat', 'camel', 'elephant', 'fox']\n",
        "print(list[3])"
      ],
      "metadata": {
        "colab": {
          "base_uri": "https://localhost:8080/"
        },
        "id": "oB9Gd8l1Cq8y",
        "outputId": "a2f7b177-23eb-4dd1-bd16-1f257c91af84"
      },
      "execution_count": null,
      "outputs": [
        {
          "output_type": "stream",
          "name": "stdout",
          "text": [
            "fox\n"
          ]
        }
      ]
    },
    {
      "cell_type": "code",
      "source": [
        "# 29 Write a code to combine two dictionaries into one and print the result.\n",
        "dict={'name':'Ruby', 'age': 26}\n",
        "dict1={\"city\":'chennai', 'state':'Tamilnadu'}\n",
        "dict.update(dict1)\n",
        "print(dict)"
      ],
      "metadata": {
        "colab": {
          "base_uri": "https://localhost:8080/"
        },
        "id": "8cS1Fhj9DEEk",
        "outputId": "b2c87a5f-fe8f-49c3-a54a-b834cb6d5e67"
      },
      "execution_count": null,
      "outputs": [
        {
          "output_type": "stream",
          "name": "stdout",
          "text": [
            "{'name': 'Ruby', 'age': 26, 'city': 'chennai', 'state': 'Tamilnadu'}\n"
          ]
        }
      ]
    },
    {
      "cell_type": "code",
      "source": [
        "# 30 Write a code to convert a list of strings into a set.\n",
        "list=['cat', 'camel', 'elephant', 'fox']\n",
        "se=set(list)\n",
        "print(se)"
      ],
      "metadata": {
        "colab": {
          "base_uri": "https://localhost:8080/"
        },
        "id": "A8my6JPUDoIS",
        "outputId": "3487311a-3d40-409f-b661-86b819725163"
      },
      "execution_count": null,
      "outputs": [
        {
          "output_type": "stream",
          "name": "stdout",
          "text": [
            "{'elephant', 'camel', 'fox', 'cat'}\n"
          ]
        }
      ]
    }
  ]
}